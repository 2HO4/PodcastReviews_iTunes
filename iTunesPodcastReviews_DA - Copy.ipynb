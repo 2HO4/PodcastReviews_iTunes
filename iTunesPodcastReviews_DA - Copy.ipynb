{
 "cells": [
  {
   "cell_type": "markdown",
   "source": [
    "# Data Analysis of iTunes Podcast Reviews"
   ],
   "metadata": {
    "collapsed": false
   }
  },
  {
   "cell_type": "code",
   "execution_count": 1,
   "metadata": {
    "collapsed": true,
    "ExecuteTime": {
     "end_time": "2023-08-16T23:57:14.545564100Z",
     "start_time": "2023-08-16T23:57:14.119600Z"
    }
   },
   "outputs": [
    {
     "name": "stdout",
     "output_type": "stream",
     "text": [
      "CURRENT DIRECTORY:\n",
      ". = \"D:\\Documents\\Projects\\DS\\Turing\\2 Data Analysis\\S2\\Project\"\n",
      "\n",
      ".\n",
      ".\\.gitignore\n",
      ".\\225.ipynb\n",
      ".\\iTunesPodcastReviews_DA.ipynb\n",
      ".\\LICENSE\n",
      ".\\README.md\n",
      ".\\requirements.txt\n",
      "\n",
      ".\\data\n",
      ".\\data\\database.sqlite\n",
      "\n",
      ".\\processes\n",
      ".\\processes\\cleaning.py\n",
      ".\\processes\\modeling.py\n",
      ".\\processes\\preparation.py\n",
      ".\\processes\\transformation.py\n",
      ".\\processes\\visualization.py\n",
      "\n",
      ".\\processes\\tools\n",
      ".\\processes\\tools\\modify_cls.py\n",
      "\n",
      ".\\processes\\tools\\__pycache__\n",
      ".\\processes\\tools\\__pycache__\\modify_cls.cpython-311.pyc\n",
      "\n",
      ".\\processes\\__pycache__\n",
      ".\\processes\\__pycache__\\cleaning.cpython-311.pyc\n",
      ".\\processes\\__pycache__\\modeling.cpython-311.pyc\n",
      ".\\processes\\__pycache__\\preparation.cpython-311.pyc\n",
      ".\\processes\\__pycache__\\transformation.cpython-311.pyc\n",
      ".\\processes\\__pycache__\\visualization.cpython-311.pyc\n"
     ]
    }
   ],
   "source": [
    "# ITUNES PODCAST REVIEWS\n",
    "# ----------------------------------------------------------------------------------------------------------------\n",
    "\n",
    "\n",
    "# INITIATION ------------\n",
    "\n",
    "# System information\n",
    "import os\n",
    "\n",
    "# Data preparation\n",
    "import pandas as pd\n",
    "import sqlite3 as sql\n",
    "# import duckdb\n",
    "\n",
    "# Data visualization\n",
    "import matplotlib.pyplot as plt\n",
    "import seaborn as sns\n",
    "\n",
    "# Data transformation & algorithms\n",
    "import numpy as np\n",
    "import scipy as sp\n",
    "\n",
    "# Data modeling\n",
    "import sklearn\n",
    "\n",
    "\n",
    "# Miscellaneous\n",
    "import math\n",
    "from tabulate import tabulate\n",
    "from IPython.display import Image\n",
    "from processes import \\\n",
    "    preparation, \\\n",
    "    transformation, \\\n",
    "    cleaning, \\\n",
    "    visualization, \\\n",
    "    modeling\n",
    "\n",
    "print(\n",
    "    'CURRENT DIRECTORY:\\n'\n",
    "    '. = \\\"', os.getcwd(), '\\\"', sep=''\n",
    ")\n",
    "\n",
    "for dirName, _, filenames in os.walk('.'):\n",
    "    if dirName[2:3] != '.':\n",
    "        print('\\n', dirName, sep='')\n",
    "        for filename in filenames:\n",
    "            print(os.path.join(dirName, filename))\n"
   ]
  },
  {
   "cell_type": "markdown",
   "source": [
    "## Data Familiarization"
   ],
   "metadata": {
    "collapsed": false
   }
  },
  {
   "cell_type": "code",
   "execution_count": 2,
   "outputs": [],
   "source": [
    "# EXECUTION -------------\n",
    "\n",
    "# Display plots directly in the notebook interface\n",
    "%matplotlib inline\n",
    "\n",
    "# Connect to database\n",
    "con = sql.connect('./data/database.sqlite')\n"
   ],
   "metadata": {
    "collapsed": false,
    "ExecuteTime": {
     "end_time": "2023-08-16T23:57:18.052814Z",
     "start_time": "2023-08-16T23:57:18.036751200Z"
    }
   }
  },
  {
   "cell_type": "markdown",
   "source": [
    "### Categories data:"
   ],
   "metadata": {
    "collapsed": false
   }
  },
  {
   "cell_type": "code",
   "execution_count": 3,
   "outputs": [
    {
     "name": "stdout",
     "output_type": "stream",
     "text": [
      "CATEGORIES\n",
      "S  E  L  F  \n",
      "Number of Observations: 212372; \n",
      "Number of Features: 2.\n",
      "- Categorical features: podcast_id, category; \n",
      "- Numerical features: .\n"
     ]
    },
    {
     "data": {
      "text/plain": "                         podcast_id              category\n0  c61aa81c9b929a66f0c1db6cbe5d8548                  arts\n1  c61aa81c9b929a66f0c1db6cbe5d8548  arts-performing-arts\n2  c61aa81c9b929a66f0c1db6cbe5d8548                 music\n3  ad4f2bf69c72b8db75978423c25f379e                  arts\n4  ad4f2bf69c72b8db75978423c25f379e           arts-design\n5  ad4f2bf69c72b8db75978423c25f379e             education\n6  ad4f2bf69c72b8db75978423c25f379e       society-culture\n7  f2970432aad718a000ebac10e48ae6b0                  arts\n8  f2970432aad718a000ebac10e48ae6b0  arts-performing-arts\n9  f2970432aad718a000ebac10e48ae6b0       society-culture",
      "text/html": "<div>\n<style scoped>\n    .dataframe tbody tr th:only-of-type {\n        vertical-align: middle;\n    }\n\n    .dataframe tbody tr th {\n        vertical-align: top;\n    }\n\n    .dataframe thead th {\n        text-align: right;\n    }\n</style>\n<table border=\"1\" class=\"dataframe\">\n  <thead>\n    <tr style=\"text-align: right;\">\n      <th></th>\n      <th>podcast_id</th>\n      <th>category</th>\n    </tr>\n  </thead>\n  <tbody>\n    <tr>\n      <th>0</th>\n      <td>c61aa81c9b929a66f0c1db6cbe5d8548</td>\n      <td>arts</td>\n    </tr>\n    <tr>\n      <th>1</th>\n      <td>c61aa81c9b929a66f0c1db6cbe5d8548</td>\n      <td>arts-performing-arts</td>\n    </tr>\n    <tr>\n      <th>2</th>\n      <td>c61aa81c9b929a66f0c1db6cbe5d8548</td>\n      <td>music</td>\n    </tr>\n    <tr>\n      <th>3</th>\n      <td>ad4f2bf69c72b8db75978423c25f379e</td>\n      <td>arts</td>\n    </tr>\n    <tr>\n      <th>4</th>\n      <td>ad4f2bf69c72b8db75978423c25f379e</td>\n      <td>arts-design</td>\n    </tr>\n    <tr>\n      <th>5</th>\n      <td>ad4f2bf69c72b8db75978423c25f379e</td>\n      <td>education</td>\n    </tr>\n    <tr>\n      <th>6</th>\n      <td>ad4f2bf69c72b8db75978423c25f379e</td>\n      <td>society-culture</td>\n    </tr>\n    <tr>\n      <th>7</th>\n      <td>f2970432aad718a000ebac10e48ae6b0</td>\n      <td>arts</td>\n    </tr>\n    <tr>\n      <th>8</th>\n      <td>f2970432aad718a000ebac10e48ae6b0</td>\n      <td>arts-performing-arts</td>\n    </tr>\n    <tr>\n      <th>9</th>\n      <td>f2970432aad718a000ebac10e48ae6b0</td>\n      <td>society-culture</td>\n    </tr>\n  </tbody>\n</table>\n</div>"
     },
     "execution_count": 3,
     "metadata": {},
     "output_type": "execute_result"
    }
   ],
   "source": [
    "# Import Categories data into pandas\n",
    "Categories = pd.read_sql('SELECT * FROM categories', con)\n",
    "\n",
    "# First 10 observations\n",
    "print('CATEGORIES')\n",
    "Categories.recap(n_rows=10)\n"
   ],
   "metadata": {
    "collapsed": false,
    "ExecuteTime": {
     "end_time": "2023-08-16T23:57:22.105688200Z",
     "start_time": "2023-08-16T23:57:21.814205900Z"
    }
   }
  },
  {
   "cell_type": "markdown",
   "source": [
    "### Podcasts data:"
   ],
   "metadata": {
    "collapsed": false
   }
  },
  {
   "cell_type": "code",
   "execution_count": 4,
   "outputs": [
    {
     "name": "stdout",
     "output_type": "stream",
     "text": [
      "PODCASTS\n",
      "S  E  L  F  \n",
      "Number of Observations: 110024; \n",
      "Number of Features: 5.\n",
      "- Categorical features: podcast_id, slug, itunes_url, title; \n",
      "- Numerical features: itunes_id.\n"
     ]
    },
    {
     "data": {
      "text/plain": "                         podcast_id   itunes_id  \\\n0  a00018b54eb342567c94dacfb2a3e504  1313466221   \n1  a00043d34e734b09246d17dc5d56f63c   158973461   \n2  a0004b1ef445af9dc84dad1e7821b1e3   139076942   \n3  a00071f9aaae9ac725c3a586701abf4d  1332508972   \n4  a000a500f06555f81220c3eb641aded7  1544900779   \n5  a000aa69852b276565c4f5eb9cdd999b  1342447811   \n6  a000b6538cca860a11a94607c13e9595  1568973037   \n7  a0010b283ba17d282c7bb1f9709f0ac3  1285218356   \n8  a0013c50c1e6b24266fdeb10eed6eea7  1448380200   \n9  a00155a1dc1d1b9ef4d2d573982207c6  1500634531   \n\n                                    slug  \\\n0                         scaling-global   \n1  cornerstone-baptist-church-of-orlando   \n2            mystery-dancing-in-the-dark   \n3                      kts-money-matters   \n4       word-on-the-street-w-dreak-swift   \n5                        speedway-soccer   \n6                     showing-up-for-you   \n7   bethany-baptist-church-bellflower-ca   \n8          mindful-communication-podcast   \n9                                marvels   \n\n                                          itunes_url  \\\n0  https://podcasts.apple.com/us/podcast/scaling-...   \n1  https://podcasts.apple.com/us/podcast/cornerst...   \n2  https://podcasts.apple.com/us/podcast/mystery-...   \n3  https://podcasts.apple.com/us/podcast/kts-mone...   \n4  https://podcasts.apple.com/us/podcast/word-on-...   \n5  https://podcasts.apple.com/us/podcast/speedway...   \n6  https://podcasts.apple.com/us/podcast/showing-...   \n7  https://podcasts.apple.com/us/podcast/bethany-...   \n8  https://podcasts.apple.com/us/podcast/mindful-...   \n9  https://podcasts.apple.com/us/podcast/marvels/...   \n\n                                   title  \n0                         Scaling Global  \n1  Cornerstone Baptist Church of Orlando  \n2           Mystery: Dancing in the Dark  \n3                      KTs Money Matters  \n4      Word on the Street w/ Dreak Swift  \n5                        Speedway Soccer  \n6                     Showing Up for You  \n7  Bethany Baptist Church, Bellflower CA  \n8          Mindful Communication Podcast  \n9                                MARVELS  ",
      "text/html": "<div>\n<style scoped>\n    .dataframe tbody tr th:only-of-type {\n        vertical-align: middle;\n    }\n\n    .dataframe tbody tr th {\n        vertical-align: top;\n    }\n\n    .dataframe thead th {\n        text-align: right;\n    }\n</style>\n<table border=\"1\" class=\"dataframe\">\n  <thead>\n    <tr style=\"text-align: right;\">\n      <th></th>\n      <th>podcast_id</th>\n      <th>itunes_id</th>\n      <th>slug</th>\n      <th>itunes_url</th>\n      <th>title</th>\n    </tr>\n  </thead>\n  <tbody>\n    <tr>\n      <th>0</th>\n      <td>a00018b54eb342567c94dacfb2a3e504</td>\n      <td>1313466221</td>\n      <td>scaling-global</td>\n      <td>https://podcasts.apple.com/us/podcast/scaling-...</td>\n      <td>Scaling Global</td>\n    </tr>\n    <tr>\n      <th>1</th>\n      <td>a00043d34e734b09246d17dc5d56f63c</td>\n      <td>158973461</td>\n      <td>cornerstone-baptist-church-of-orlando</td>\n      <td>https://podcasts.apple.com/us/podcast/cornerst...</td>\n      <td>Cornerstone Baptist Church of Orlando</td>\n    </tr>\n    <tr>\n      <th>2</th>\n      <td>a0004b1ef445af9dc84dad1e7821b1e3</td>\n      <td>139076942</td>\n      <td>mystery-dancing-in-the-dark</td>\n      <td>https://podcasts.apple.com/us/podcast/mystery-...</td>\n      <td>Mystery: Dancing in the Dark</td>\n    </tr>\n    <tr>\n      <th>3</th>\n      <td>a00071f9aaae9ac725c3a586701abf4d</td>\n      <td>1332508972</td>\n      <td>kts-money-matters</td>\n      <td>https://podcasts.apple.com/us/podcast/kts-mone...</td>\n      <td>KTs Money Matters</td>\n    </tr>\n    <tr>\n      <th>4</th>\n      <td>a000a500f06555f81220c3eb641aded7</td>\n      <td>1544900779</td>\n      <td>word-on-the-street-w-dreak-swift</td>\n      <td>https://podcasts.apple.com/us/podcast/word-on-...</td>\n      <td>Word on the Street w/ Dreak Swift</td>\n    </tr>\n    <tr>\n      <th>5</th>\n      <td>a000aa69852b276565c4f5eb9cdd999b</td>\n      <td>1342447811</td>\n      <td>speedway-soccer</td>\n      <td>https://podcasts.apple.com/us/podcast/speedway...</td>\n      <td>Speedway Soccer</td>\n    </tr>\n    <tr>\n      <th>6</th>\n      <td>a000b6538cca860a11a94607c13e9595</td>\n      <td>1568973037</td>\n      <td>showing-up-for-you</td>\n      <td>https://podcasts.apple.com/us/podcast/showing-...</td>\n      <td>Showing Up for You</td>\n    </tr>\n    <tr>\n      <th>7</th>\n      <td>a0010b283ba17d282c7bb1f9709f0ac3</td>\n      <td>1285218356</td>\n      <td>bethany-baptist-church-bellflower-ca</td>\n      <td>https://podcasts.apple.com/us/podcast/bethany-...</td>\n      <td>Bethany Baptist Church, Bellflower CA</td>\n    </tr>\n    <tr>\n      <th>8</th>\n      <td>a0013c50c1e6b24266fdeb10eed6eea7</td>\n      <td>1448380200</td>\n      <td>mindful-communication-podcast</td>\n      <td>https://podcasts.apple.com/us/podcast/mindful-...</td>\n      <td>Mindful Communication Podcast</td>\n    </tr>\n    <tr>\n      <th>9</th>\n      <td>a00155a1dc1d1b9ef4d2d573982207c6</td>\n      <td>1500634531</td>\n      <td>marvels</td>\n      <td>https://podcasts.apple.com/us/podcast/marvels/...</td>\n      <td>MARVELS</td>\n    </tr>\n  </tbody>\n</table>\n</div>"
     },
     "execution_count": 4,
     "metadata": {},
     "output_type": "execute_result"
    }
   ],
   "source": [
    "# Import Podcasts data into pandas\n",
    "Podcasts = pd.read_sql('SELECT * FROM podcasts', con)\n",
    "\n",
    "# First 10 observations\n",
    "print('PODCASTS')\n",
    "Podcasts.recap(n_rows=10)\n"
   ],
   "metadata": {
    "collapsed": false,
    "ExecuteTime": {
     "end_time": "2023-08-16T23:54:58.808477400Z",
     "start_time": "2023-08-16T23:54:57.760623900Z"
    }
   }
  },
  {
   "cell_type": "markdown",
   "source": [
    "### Reviews data:"
   ],
   "metadata": {
    "collapsed": false
   }
  },
  {
   "cell_type": "code",
   "execution_count": 5,
   "outputs": [
    {
     "name": "stdout",
     "output_type": "stream",
     "text": [
      "REVIEWS\n",
      "S  E  L  F  \n",
      "Number of Observations: 2067529; \n",
      "Number of Features: 6.\n",
      "- Categorical features: podcast_id, title, content, author_id, created_at; \n",
      "- Numerical features: rating.\n"
     ]
    },
    {
     "data": {
      "text/plain": "                         podcast_id  \\\n0  c61aa81c9b929a66f0c1db6cbe5d8548   \n1  c61aa81c9b929a66f0c1db6cbe5d8548   \n2  ad4f2bf69c72b8db75978423c25f379e   \n3  ad4f2bf69c72b8db75978423c25f379e   \n4  ad4f2bf69c72b8db75978423c25f379e   \n5  ad4f2bf69c72b8db75978423c25f379e   \n6  ad4f2bf69c72b8db75978423c25f379e   \n7  ad4f2bf69c72b8db75978423c25f379e   \n8  ad4f2bf69c72b8db75978423c25f379e   \n9  ad4f2bf69c72b8db75978423c25f379e   \n\n                                              title  \\\n0                               really interesting!   \n1  Must listen for anyone interested in the arts!!!   \n2                                 nauseatingly left   \n3                                   Diverse stories   \n4                                              👍👍👍👍   \n5                                     Waste of time   \n6                              Too much victimology   \n7                                Politically biased   \n8                                                😀😃   \n9                                         Volume???   \n\n                                             content  rating        author_id  \\\n0  Thanks for providing these insights.  Really e...       5  F7E5A318989779D   \n1  Super excited to see this podcast grow. So man...       5  F6BF5472689BD12   \n2  I'm a liberal myself, but its pretty obvious a...       1  1AB95B8E6E1309E   \n3  I find Tedx talks very inspirational but I oft...       5  11BB760AA5DEBD1   \n4                I love this podcast, it is so good.       5  D86032C8E57D15A   \n5  I listened to the “Spanish Flu” pod cast. Afte...       1  67A452C80BCBEEC   \n6  Too much BS trying to convince me of how racis...       3  265ADD6AB150C41   \n7  I would love to hear topics discussed without ...       1  C27BC8C2D6F5A4A   \n8              Ok so I am in love with this podcast.       5  218EE494C8C787F   \n9  Great podcast, but the editors turn the volume...       1  DC6DBB8C4D9B2E5   \n\n                  created_at  \n0  2018-04-24T12:05:16-07:00  \n1  2018-05-09T18:14:32-07:00  \n2  2019-06-11T14:53:39-07:00  \n3  2018-05-31T13:08:09-07:00  \n4  2019-06-19T13:56:05-07:00  \n5  2019-01-09T09:07:09-07:00  \n6  2019-02-02T10:15:25-07:00  \n7  2019-01-01T09:47:11-07:00  \n8  2019-05-09T17:50:14-07:00  \n9  2019-06-25T05:05:24-07:00  ",
      "text/html": "<div>\n<style scoped>\n    .dataframe tbody tr th:only-of-type {\n        vertical-align: middle;\n    }\n\n    .dataframe tbody tr th {\n        vertical-align: top;\n    }\n\n    .dataframe thead th {\n        text-align: right;\n    }\n</style>\n<table border=\"1\" class=\"dataframe\">\n  <thead>\n    <tr style=\"text-align: right;\">\n      <th></th>\n      <th>podcast_id</th>\n      <th>title</th>\n      <th>content</th>\n      <th>rating</th>\n      <th>author_id</th>\n      <th>created_at</th>\n    </tr>\n  </thead>\n  <tbody>\n    <tr>\n      <th>0</th>\n      <td>c61aa81c9b929a66f0c1db6cbe5d8548</td>\n      <td>really interesting!</td>\n      <td>Thanks for providing these insights.  Really e...</td>\n      <td>5</td>\n      <td>F7E5A318989779D</td>\n      <td>2018-04-24T12:05:16-07:00</td>\n    </tr>\n    <tr>\n      <th>1</th>\n      <td>c61aa81c9b929a66f0c1db6cbe5d8548</td>\n      <td>Must listen for anyone interested in the arts!!!</td>\n      <td>Super excited to see this podcast grow. So man...</td>\n      <td>5</td>\n      <td>F6BF5472689BD12</td>\n      <td>2018-05-09T18:14:32-07:00</td>\n    </tr>\n    <tr>\n      <th>2</th>\n      <td>ad4f2bf69c72b8db75978423c25f379e</td>\n      <td>nauseatingly left</td>\n      <td>I'm a liberal myself, but its pretty obvious a...</td>\n      <td>1</td>\n      <td>1AB95B8E6E1309E</td>\n      <td>2019-06-11T14:53:39-07:00</td>\n    </tr>\n    <tr>\n      <th>3</th>\n      <td>ad4f2bf69c72b8db75978423c25f379e</td>\n      <td>Diverse stories</td>\n      <td>I find Tedx talks very inspirational but I oft...</td>\n      <td>5</td>\n      <td>11BB760AA5DEBD1</td>\n      <td>2018-05-31T13:08:09-07:00</td>\n    </tr>\n    <tr>\n      <th>4</th>\n      <td>ad4f2bf69c72b8db75978423c25f379e</td>\n      <td>👍👍👍👍</td>\n      <td>I love this podcast, it is so good.</td>\n      <td>5</td>\n      <td>D86032C8E57D15A</td>\n      <td>2019-06-19T13:56:05-07:00</td>\n    </tr>\n    <tr>\n      <th>5</th>\n      <td>ad4f2bf69c72b8db75978423c25f379e</td>\n      <td>Waste of time</td>\n      <td>I listened to the “Spanish Flu” pod cast. Afte...</td>\n      <td>1</td>\n      <td>67A452C80BCBEEC</td>\n      <td>2019-01-09T09:07:09-07:00</td>\n    </tr>\n    <tr>\n      <th>6</th>\n      <td>ad4f2bf69c72b8db75978423c25f379e</td>\n      <td>Too much victimology</td>\n      <td>Too much BS trying to convince me of how racis...</td>\n      <td>3</td>\n      <td>265ADD6AB150C41</td>\n      <td>2019-02-02T10:15:25-07:00</td>\n    </tr>\n    <tr>\n      <th>7</th>\n      <td>ad4f2bf69c72b8db75978423c25f379e</td>\n      <td>Politically biased</td>\n      <td>I would love to hear topics discussed without ...</td>\n      <td>1</td>\n      <td>C27BC8C2D6F5A4A</td>\n      <td>2019-01-01T09:47:11-07:00</td>\n    </tr>\n    <tr>\n      <th>8</th>\n      <td>ad4f2bf69c72b8db75978423c25f379e</td>\n      <td>😀😃</td>\n      <td>Ok so I am in love with this podcast.</td>\n      <td>5</td>\n      <td>218EE494C8C787F</td>\n      <td>2019-05-09T17:50:14-07:00</td>\n    </tr>\n    <tr>\n      <th>9</th>\n      <td>ad4f2bf69c72b8db75978423c25f379e</td>\n      <td>Volume???</td>\n      <td>Great podcast, but the editors turn the volume...</td>\n      <td>1</td>\n      <td>DC6DBB8C4D9B2E5</td>\n      <td>2019-06-25T05:05:24-07:00</td>\n    </tr>\n  </tbody>\n</table>\n</div>"
     },
     "execution_count": 5,
     "metadata": {},
     "output_type": "execute_result"
    }
   ],
   "source": [
    "# Import Reviews data into pandas\n",
    "Reviews = pd.read_sql('SELECT * FROM reviews', con)\n",
    "\n",
    "# First 10 observations\n",
    "print('REVIEWS')\n",
    "Reviews.recap(n_rows=10)\n"
   ],
   "metadata": {
    "collapsed": false,
    "ExecuteTime": {
     "end_time": "2023-08-16T23:55:08.201403500Z",
     "start_time": "2023-08-16T23:54:58.810457600Z"
    }
   }
  },
  {
   "cell_type": "markdown",
   "source": [
    "## Data Preparation\n",
    "..."
   ],
   "metadata": {
    "collapsed": false
   }
  },
  {
   "cell_type": "markdown",
   "source": [
    "### Data cleaning:\n",
    "First, any observations with erroneous values that are in unsuitable formats or missing values will be handled."
   ],
   "metadata": {
    "collapsed": false
   }
  },
  {
   "cell_type": "code",
   "execution_count": null,
   "outputs": [],
   "source": [
    "# HANDLING ERRONEOUS VALUES\n",
    "\n",
    "# Cleaning the dataset\n",
    "print('CATEGORIES')\n",
    "if Categories.has_nan() or Categories.has_na():\n",
    "    ## Observations with erroneous non-numeric data are removed;\n",
    "    Categories.dropna(subset=''.split(', '), inplace=True)\n",
    "\n",
    "    ## Due to limited number of observations, invalid numeric data are replaced with the variables' medians\n",
    "    Categories.fillna(Categories.median(numeric_only=True, skipna=True), inplace=True)\n",
    "\n",
    "print('\\nPODCASTS')\n",
    "if Podcasts.has_nan() or Podcasts.has_na():\n",
    "    ## Observations with erroneous non-numeric data are removed;\n",
    "    Podcasts.dropna(subset=''.split(', '), inplace=True)\n",
    "\n",
    "    ## Due to limited number of observations, invalid numeric data are replaced with the variables' medians\n",
    "    Podcasts.fillna(value=Podcasts.median(numeric_only=True, skipna=True), inplace=True)\n",
    "\n",
    "print('\\nREVIEWS')\n",
    "if Reviews.has_nan() or Reviews.has_na():\n",
    "    ## Observations with erroneous non-numeric data are removed;\n",
    "    Reviews.dropna(subset=''.split(', '), inplace=True)\n",
    "\n",
    "    ## Due to limited number of observations, invalid numeric data are replaced with the variables' medians\n",
    "    Reviews.fillna(value=Reviews.median(numeric_only=True, skipna=True), inplace=True)\n",
    "\n",
    "print('\\n# All datasets no longer contain unrepresentable or missing data.')\n"
   ],
   "metadata": {
    "collapsed": false
   }
  },
  {
   "cell_type": "markdown",
   "source": [
    "Second, any duplicate samples and features based on the podcasts' IDs will be investigated further from the 3\n",
    "datasets\n",
    "to understand the reasons behind these duplicates and to avoid redundancy and bias."
   ],
   "metadata": {
    "collapsed": false
   }
  },
  {
   "cell_type": "code",
   "execution_count": null,
   "outputs": [],
   "source": [
    "# REMOVING DUPLICATE SAMPLES & FEATURES\n",
    "\n",
    "# Remove duplicated IDs\n",
    "print('CATEGORIES')\n",
    "ifDup_c = Categories.has_duplicates('podcast_id', rm=False)\n",
    "\n",
    "print('\\nPODCASTS')\n",
    "ifDup_p = Podcasts.has_duplicates('podcast_id', rm=False)\n",
    "\n",
    "print('\\nREVIEWS')\n",
    "ifDup_r = Reviews.has_duplicates('podcast_id', rm=False)\n"
   ],
   "metadata": {
    "collapsed": false
   }
  },
  {
   "cell_type": "code",
   "execution_count": null,
   "outputs": [],
   "source": [
    "print(\n",
    "    f\"Number of distinct podcasts in data: \"\n",
    "    f\"{pd.concat([Categories['podcast_id'], Podcasts['podcast_id'], Reviews['podcast_id']]).nunique()}\\n\"\n",
    "    f\"- Categories: {Categories['podcast_id'].nunique()}\\n\"\n",
    "    f\"- Podcasts: {Podcasts['podcast_id'].nunique()}\\n\"\n",
    "    f\"- Reviews: {Reviews['podcast_id'].nunique()}\"\n",
    ")\n"
   ],
   "metadata": {
    "collapsed": false
   }
  },
  {
   "cell_type": "markdown",
   "source": [
    "### Update the Categories, Podcasts, & Reviews datasets:"
   ],
   "metadata": {
    "collapsed": false
   }
  },
  {
   "cell_type": "code",
   "execution_count": null,
   "outputs": [],
   "source": [
    "con.execute(\n",
    "    \"\"\"\n",
    "    DROP TABLE IF EXISTS Map\n",
    "    ;\n",
    "    \"\"\"\n",
    ")\n",
    "\n",
    "con.execute(\n",
    "    \"\"\"\n",
    "    CREATE TABLE Map AS\n",
    "    SELECT podcast_id AS id_old, ROW_NUMBER() OVER () AS podcast_id\n",
    "    FROM Podcasts\n",
    "    ;\n",
    "    \"\"\"\n",
    ")\n",
    "\n",
    "con.execute(\n",
    "    \"\"\"\n",
    "    CREATE UNIQUE INDEX id_old\n",
    "    ON Map (id_old)\n",
    "    ;\n",
    "    \"\"\"\n",
    ")\n",
    "\n",
    "Map = pd.read_sql(\n",
    "    \"\"\"\n",
    "    SELECT *\n",
    "    FROM Map\n",
    "    LIMIT 10\n",
    "    ;\n",
    "    \"\"\",\n",
    "    con,\n",
    "    index_col='id_old'\n",
    ")\n",
    "\n",
    "print('NEW ID')\n",
    "Map.recap(n_rows=10)\n"
   ],
   "metadata": {
    "collapsed": false
   }
  },
  {
   "cell_type": "code",
   "execution_count": null,
   "outputs": [],
   "source": [
    "con.execute(\n",
    "    \"\"\"\n",
    "    -- Remove old updated Categories dataset\n",
    "    DROP TABLE IF EXISTS Categories_updated;\n",
    "    \"\"\"\n",
    ")\n",
    "\n",
    "con.execute(\n",
    "    \"\"\"\n",
    "    CREATE TABLE Categories_updated AS\n",
    "    SELECT Map.podcast_id, Categories.category\n",
    "    FROM Map, Categories\n",
    "    WHERE Categories.podcast_id = Map.id_old\n",
    "    \"\"\"\n",
    ")\n",
    "\n",
    "Categories_updated = pd.read_sql(\"SELECT * FROM Categories_updated\", con)\n",
    "\n",
    "print('UPDATED CATEGORIES')\n",
    "Categories_updated.recap(n_rows=10)\n"
   ],
   "metadata": {
    "collapsed": false
   }
  },
  {
   "cell_type": "code",
   "execution_count": null,
   "outputs": [],
   "source": [
    "con.execute(\n",
    "    \"\"\"\n",
    "    -- Remove old updated Podcasts dataset\n",
    "    DROP TABLE IF EXISTS Podcasts_updated;\n",
    "    \"\"\"\n",
    ")\n",
    "\n",
    "con.execute(\n",
    "    \"\"\"\n",
    "    CREATE TABLE Podcasts_updated AS\n",
    "    SELECT Map.podcast_id, Podcasts.title\n",
    "    FROM Map, Podcasts\n",
    "    WHERE Podcasts.podcast_id = Map.id_old\n",
    "    \"\"\"\n",
    ")\n",
    "\n",
    "con.execute(\n",
    "    \"\"\"\n",
    "    CREATE UNIQUE INDEX podcast_id\n",
    "    ON Podcasts_updated (podcast_id);\n",
    "    \"\"\"\n",
    ")\n",
    "\n",
    "Podcasts_updated = pd.read_sql(\"SELECT * FROM Podcasts_updated\", con)\n",
    "\n",
    "print('UPDATED PODCASTS')\n",
    "Podcasts_updated.recap(n_rows=10)\n"
   ],
   "metadata": {
    "collapsed": false
   }
  },
  {
   "cell_type": "code",
   "execution_count": null,
   "outputs": [],
   "source": [
    "id_old = Podcasts['podcast_id'].unique()\n",
    "podcast_id = dict(zip(id_old, range(1, Podcasts['podcast_id'].nunique() + 1)))\n",
    "\n",
    "Reviews_updated = Reviews.copy()[Reviews['podcast_id'].isin(id_old)]\n",
    "Reviews_updated['podcast_id'] = Reviews_updated['podcast_id'].map(podcast_id)\n",
    "\n",
    "Reviews_updated.to_sql('Reviews_updated', con, if_exists='replace', index=False)\n",
    "\n",
    "print('UPDATED REVIEWS')\n",
    "Reviews_updated.recap(n_rows=10)\n"
   ],
   "metadata": {
    "collapsed": false
   }
  },
  {
   "cell_type": "code",
   "execution_count": 59,
   "outputs": [
    {
     "data": {
      "text/plain": "        typeof(strftime('%m', created_at))\n0                                     text\n1                                     text\n2                                     text\n3                                     text\n4                                     text\n...                                    ...\n2043292                               text\n2043293                               text\n2043294                               text\n2043295                               text\n2043296                               text\n\n[2043297 rows x 1 columns]",
      "text/html": "<div>\n<style scoped>\n    .dataframe tbody tr th:only-of-type {\n        vertical-align: middle;\n    }\n\n    .dataframe tbody tr th {\n        vertical-align: top;\n    }\n\n    .dataframe thead th {\n        text-align: right;\n    }\n</style>\n<table border=\"1\" class=\"dataframe\">\n  <thead>\n    <tr style=\"text-align: right;\">\n      <th></th>\n      <th>typeof(strftime('%m', created_at))</th>\n    </tr>\n  </thead>\n  <tbody>\n    <tr>\n      <th>0</th>\n      <td>text</td>\n    </tr>\n    <tr>\n      <th>1</th>\n      <td>text</td>\n    </tr>\n    <tr>\n      <th>2</th>\n      <td>text</td>\n    </tr>\n    <tr>\n      <th>3</th>\n      <td>text</td>\n    </tr>\n    <tr>\n      <th>4</th>\n      <td>text</td>\n    </tr>\n    <tr>\n      <th>...</th>\n      <td>...</td>\n    </tr>\n    <tr>\n      <th>2043292</th>\n      <td>text</td>\n    </tr>\n    <tr>\n      <th>2043293</th>\n      <td>text</td>\n    </tr>\n    <tr>\n      <th>2043294</th>\n      <td>text</td>\n    </tr>\n    <tr>\n      <th>2043295</th>\n      <td>text</td>\n    </tr>\n    <tr>\n      <th>2043296</th>\n      <td>text</td>\n    </tr>\n  </tbody>\n</table>\n<p>2043297 rows × 1 columns</p>\n</div>"
     },
     "execution_count": 59,
     "metadata": {},
     "output_type": "execute_result"
    }
   ],
   "source": [
    "pd.read_sql(\n",
    "    \"\"\"\n",
    "    SELECT typeof(strftime('%m', created_at))\n",
    "    FROM Reviews_updated\n",
    "    \"\"\",\n",
    "    con\n",
    ")"
   ],
   "metadata": {
    "collapsed": false,
    "ExecuteTime": {
     "end_time": "2023-08-16T21:57:29.956792900Z",
     "start_time": "2023-08-16T21:57:26.145679300Z"
    }
   }
  },
  {
   "cell_type": "markdown",
   "source": [
    "### Checking outliers:"
   ],
   "metadata": {
    "collapsed": false
   }
  },
  {
   "cell_type": "code",
   "execution_count": 76,
   "outputs": [
    {
     "data": {
      "text/plain": "['Reviews_updated', '_66']"
     },
     "execution_count": 76,
     "metadata": {},
     "output_type": "execute_result"
    }
   ],
   "source": [
    "[i for i, j in locals().items() if type(j) == pd.DataFrame and j.equals(Reviews_updated)][0]"
   ],
   "metadata": {
    "collapsed": false,
    "ExecuteTime": {
     "end_time": "2023-08-16T23:41:23.173265800Z",
     "start_time": "2023-08-16T23:41:23.150819100Z"
    }
   }
  },
  {
   "cell_type": "markdown",
   "source": [
    "## Exploratory Data Analysis"
   ],
   "metadata": {
    "collapsed": false
   }
  },
  {
   "cell_type": "code",
   "execution_count": null,
   "outputs": [],
   "source": [],
   "metadata": {
    "collapsed": false
   }
  },
  {
   "cell_type": "markdown",
   "source": [
    "## Modeling"
   ],
   "metadata": {
    "collapsed": false
   }
  },
  {
   "cell_type": "code",
   "execution_count": null,
   "outputs": [],
   "source": [],
   "metadata": {
    "collapsed": false
   }
  },
  {
   "cell_type": "markdown",
   "source": [
    "## Testing & Evaluation"
   ],
   "metadata": {
    "collapsed": false
   }
  },
  {
   "cell_type": "code",
   "execution_count": null,
   "outputs": [],
   "source": [],
   "metadata": {
    "collapsed": false
   }
  },
  {
   "cell_type": "markdown",
   "source": [
    "## Deployment"
   ],
   "metadata": {
    "collapsed": false
   }
  },
  {
   "cell_type": "code",
   "execution_count": null,
   "outputs": [],
   "source": [],
   "metadata": {
    "collapsed": false
   }
  },
  {
   "cell_type": "markdown",
   "source": [
    "## Results Interpretation\n",
    "...\n"
   ],
   "metadata": {
    "collapsed": false
   }
  },
  {
   "cell_type": "markdown",
   "source": [
    "## Suggestions & Recommendations\n",
    "...\n"
   ],
   "metadata": {
    "collapsed": false
   }
  },
  {
   "cell_type": "markdown",
   "source": [
    "## Conclusion\n",
    "...\n"
   ],
   "metadata": {
    "collapsed": false
   }
  }
 ],
 "metadata": {
  "kernelspec": {
   "display_name": "Python 3",
   "language": "python",
   "name": "python3"
  },
  "language_info": {
   "codemirror_mode": {
    "name": "ipython",
    "version": 2
   },
   "file_extension": ".py",
   "mimetype": "text/x-python",
   "name": "python",
   "nbconvert_exporter": "python",
   "pygments_lexer": "ipython2",
   "version": "2.7.6"
  }
 },
 "nbformat": 4,
 "nbformat_minor": 0
}
